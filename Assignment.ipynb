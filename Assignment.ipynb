{
  "metadata": {
    "kernelspec": {
      "name": "python",
      "display_name": "Python (Pyodide)",
      "language": "python"
    },
    "language_info": {
      "codemirror_mode": {
        "name": "python",
        "version": 3
      },
      "file_extension": ".py",
      "mimetype": "text/x-python",
      "name": "python",
      "nbconvert_exporter": "python",
      "pygments_lexer": "ipython3",
      "version": "3.8"
    }
  },
  "nbformat_minor": 4,
  "nbformat": 4,
  "cells": [
    {
      "cell_type": "markdown",
      "source": "ASSIGNMENT",
      "metadata": {}
    },
    {
      "cell_type": "markdown",
      "source": "FIRST ASSIGNMENT IN JUPYTER ",
      "metadata": {}
    },
    {
      "cell_type": "markdown",
      "source": "Python\r\nR\r\nSQL\r\nJava\r\nJulia\r\nScala\r\nC/C++\r\nJavaScript\r\nSwift\r\nGo\r\nMATLAB\r\nSAS",
      "metadata": {}
    },
    {
      "cell_type": "markdown",
      "source": "NumPy\r\nKeras\r\nPandas\r\nPyTorch\r\nSciPy\r\nScikit-Learn\r\nTensorFlow\r\nMatplotlib\r\nSeaborn\r\nTheano",
      "metadata": {}
    },
    {
      "cell_type": "markdown",
      "source": "a=20,b=10\n+ Addition: a + b = 30\n- Subtraction: a – b = -10\n* Multiplication: a * b = 200\n/ Division: b / a = 2\n% Modulus: b % a = 0",
      "metadata": {}
    },
    {
      "cell_type": "code",
      "source": "num_1 = 2\nnum_2 = 3\nproduct = num_1 * num_2\nprint(\"Product of {} and {} is {}\".format(num_1, num_2,product))",
      "metadata": {
        "trusted": true
      },
      "outputs": [
        {
          "name": "stdout",
          "text": "Product of 2 and 3 is 6\n",
          "output_type": "stream"
        }
      ],
      "execution_count": 4
    },
    {
      "cell_type": "code",
      "source": "min=45\nh=min//60\nm=min%60\nprint(\"Hours=\",h)\nprint(\"Minutes=\",m)",
      "metadata": {
        "trusted": true
      },
      "outputs": [
        {
          "name": "stdout",
          "text": "Hours= 0\nMinutes= 45\n",
          "output_type": "stream"
        }
      ],
      "execution_count": 7
    },
    {
      "cell_type": "markdown",
      "source": "AUTHOR - Likitha m p",
      "metadata": {}
    },
    {
      "cell_type": "markdown",
      "source": "Objectives\n-learning tools\n-different languages used\n-platforms used to data visualize\n-libraries\n-hands-on",
      "metadata": {}
    },
    {
      "cell_type": "markdown",
      "source": "DATA SCIENCE TOOLS\n-Excel\n-Google analytics\n-Tableau\n-Power BI\n-Big ML\n-Spark\n-Tensorflow\n-Scikit learn\n-Hadoop\n-Matplotlib",
      "metadata": {}
    }
  ]
}