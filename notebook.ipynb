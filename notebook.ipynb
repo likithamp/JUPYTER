{
  "metadata": {
    "kernelspec": {
      "name": "python",
      "display_name": "Python (Pyodide)",
      "language": "python"
    },
    "language_info": {
      "codemirror_mode": {
        "name": "python",
        "version": 3
      },
      "file_extension": ".py",
      "mimetype": "text/x-python",
      "name": "python",
      "nbconvert_exporter": "python",
      "pygments_lexer": "ipython3",
      "version": "3.8"
    }
  },
  "nbformat_minor": 4,
  "nbformat": 4,
  "cells": [
    {
      "cell_type": "markdown",
      "source": "# DATA SCIENEC TOOLS ASSIGNMENT",
      "metadata": {}
    },
    {
      "cell_type": "markdown",
      "source": "# FIRST ASSIGNMENT IN JUPYTER using data science tools ",
      "metadata": {}
    },
    {
      "cell_type": "markdown",
      "source": "# languages\n1. NumPy\r2. \nKera\n3. Pandas\n4. PyTorch\n5. SciPy\n6. Scikit-Learn\n7. TensorFlow\n8. Matplotlib\n9. Seaborn\n10. Theanon\r\nTheano",
      "metadata": {}
    },
    {
      "cell_type": "markdown",
      "source": "# different languages in data science\n1. Python\n2. Java\n3. SCala\n4. sql\n5. R\n6. javascript",
      "metadata": {}
    },
    {
      "cell_type": "markdown",
      "source": "# data scienece tools\n \n| DATA SCIENCE TOOLS|\n| :---------------: |\n| Excel  |\n| Google analytics |\n| Tableau |\n| Power BI |\n| Big ML |\n| Spark |\n| Tensorflow |\n| Scikit learn |\n| Hadoop |\n| Matplotlib |\n",
      "metadata": {}
    },
    {
      "cell_type": "markdown",
      "source": "## Arithmetic ecpressions \n### a=20,b=10\n* \"+\" Addition: a + b = 30\n* \"-\" Subtraction: a – b = -10\n* \"*\" Multiplication: a * b = 200\n* \"/\" Division: b / a = 2\n* \"%\" Modulus: b % a = 0",
      "metadata": {}
    },
    {
      "cell_type": "code",
      "source": "num_1 = 2\nnum_2 = 3\nproduct = num_1 * num_2\nsum = num_1+num_2\nprint(\"Product of {} and {} is {}\".format(num_1, num_2,product))\nprint(\"sum of {} and {} is {}\".format(num_1, num_2,sum))",
      "metadata": {
        "trusted": true
      },
      "outputs": [
        {
          "name": "stdout",
          "text": "Product of 2 and 3 is 6\nsum of 2 and 3 is 5\n",
          "output_type": "stream"
        }
      ],
      "execution_count": 1
    },
    {
      "cell_type": "code",
      "source": "min=120\nh=min//60\nm=min%60\nprint(\"Hours=\",h)\nprint(\"Minutes=\",m)",
      "metadata": {
        "trusted": true
      },
      "outputs": [
        {
          "name": "stdout",
          "text": "Hours= 2\nMinutes= 0\n",
          "output_type": "stream"
        }
      ],
      "execution_count": 2
    },
    {
      "cell_type": "markdown",
      "source": "# AUTHOR - Likitha m p completed master degree in computer science and interested in data science ",
      "metadata": {}
    },
    {
      "cell_type": "markdown",
      "source": "# FIRST ASSIGNMENT IN JUPYTER using data science tools\n## Objectives\n* learning tools\n* different languages used\n* platforms used to data visualize\n* libraries\n* hands-on",
      "metadata": {}
    },
    {
      "cell_type": "markdown",
      "source": "DATA SCIENCE TOOLS\n-Excel\n-Google analytics\n-Tableau\n-Power BI\n-Big ML\n-Spark\n-Tensorflow\n-Scikit learn\n-Hadoop\n-Matplotlib",
      "metadata": {}
    },
    {
      "cell_type": "code",
      "source": "#DATA SCIENCE",
      "metadata": {
        "trusted": true
      },
      "outputs": [],
      "execution_count": 5
    },
    {
      "cell_type": "markdown",
      "source": "",
      "metadata": {}
    },
    {
      "cell_type": "code",
      "source": "",
      "metadata": {
        "trusted": true
      },
      "outputs": [],
      "execution_count": null
    },
    {
      "cell_type": "code",
      "source": "",
      "metadata": {
        "trusted": true
      },
      "outputs": [],
      "execution_count": null
    },
    {
      "cell_type": "code",
      "source": "",
      "metadata": {
        "trusted": true
      },
      "outputs": [],
      "execution_count": null
    }
  ]
}